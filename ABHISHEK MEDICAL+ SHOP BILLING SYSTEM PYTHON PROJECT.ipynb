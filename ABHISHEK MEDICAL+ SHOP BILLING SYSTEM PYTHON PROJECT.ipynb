
## Hello Dear Costomer Welcome To My Mediacl Shop If you Want to Buy Medicine from My shop then I will give you 10% OFF of Total Total of purchase.


while True:
    print("-"*45)
    print("WELCOME TO ABHISHEK MEDICAL+ SHOP BILLING SYSTEM")
    print("-"*45)

    #Asks name & phone number of the customer
    name = input("Enter your name:\n")
    phone = int(input("Enter your phone number:\n"))
    
    #Dictionary of menu items from the Abhishek Medical Shop.
 
    medicines_menu = {
            "Paracetamol": 15,
            "Ibuprofen 400mg": 20,
            "Aspirin": 25,
            "Amoxicillin 500mg": 40,
            "Azithromycin 250mg": 70,
            "Cefixime 200mg": 120,
            "Pantoprazole": 55,
            "Omeprazole 20mg": 40,
            "Ranitidine 150mg": 25,
            "Metformin 500mg": 35,
            "Glimepiride 1mg": 45,
            "Atorvastatin 10mg": 90,
            "Rosuvastatin": 110,
            "Telmisartan 40mg": 50,
            "Amlodipine 5mg": 30,
            "Losartan": 40,
            "Hydrochlorothiazide 25mg": 20,
            "Montelukast 10mg": 85,
            "Levocetirizine 5mg": 20,
            "Cetirizine 10mg": 25,
            "Fexofenadine 120mg": 90,
            "Dolo": 30,
            "Crocin Advance 500mg": 25,
            "Combiflam": 35,
            "Domperidone 10mg": 25,
            "Ondansetron 4mg": 50,
            "Dicyclomine 10mg": 30,
            "Meftal Spas": 50,
            "Digene Tablets": 30,
            "ORS Sachet": 20,
            "Electral Powder": 25,
            "Betadine Solution 100ml": 60,
            "Dettol Antiseptic 100ml": 70,
            "Burnol Cream 20g": 45,
            "Soframycin 10g": 35,
            "Calamine Lotion 100ml": 60,
            "Povidone-Iodine Ointment": 50,
            "Multivitamin Tablets": 150,
            "Vitamin C 500mg": 70,
            "Zincovit Tablets": 100,
            "Revital Capsules": 350,
            "B-Complex Tablets": 25,
            "Calcium Tablets": 80,
            "Ivermectin 12mg": 50,
            "Albendazole 400mg": 15,
            "Ciprofloxacin 500mg": 40,
            "Metronidazole 400mg": 35,
            "Clotrimazole Cream 15g": 45,
            "Ketoconazole Shampoo": 150,

         
    }

    print("-"*45)
    print("medicines_menu & PRICE (INR)")
    print("-"*45)

    #Prints the menu for the customer
    for i,j in medicines_menu.items():
        print("{:<15} {:<13}".format(i,j))
        # print(i,":",j)
    
    print("-"*45)

    amount = 0
    discount = 0
    final_amount = 0
    cart = {}
    
    #Loop used for adding items to the cart of the customer
    while True:
        flag = 0

        #Asks customer for item name
        item_name = input("Enter item name:").title()
        for item, cost in medicines_menu.items():
            if item_name == item:
                flag = 1
                break
                
        #Checks if item name is invalid 
        if flag == 0:
            print("Invalid item name")
            continue

        #Asks item quantity from the user
        quantity = int(input("Enter quantity:"))

        if item_name in cart:
            cart[item_name] += quantity  # Increment existing quantity
        else:
            cart[item_name] = quantity  # Add new item with its quantity
        
        #Calculates initital amount
        amount += medicines_menu[item_name] * quantity

        '''
        Asks customer to press 1 if more items are to be added to the cart or
        Press 2 to print the Receipt 
        Anything other than 1 or 2 is considered as invalid input and user is requested to re-enter the input
        '''
        while True:
            add_items = input("""Press 1 to add more items \nPress 2 to print the Receipt\n""")

            if add_items not in ("1","2"):
                print("Enter valid input")
            else:
                break
            
        
        #If customer does not want to add more items, the receipt gets printed
        if add_items == "2":
            print("\n")
            print("-"*18, "Receipt", "-"*18)
            print("Name:",name)
            print("Phone Number:",phone)
            print("-"*45)
            #Prints Headers (Item, Quantity, Price, Total)
            print("{:<15} {:<11} {:<9} {:<12}".format("Item", "Quantity", "Price", "Total"))
            cart
            print("-"*45)
            #Prints Items from the cart
            for x,y in cart.items():
                print("{:<15} {:<11} {:<9} {:<12}".format(x, y, medicines_menu[x], y*medicines_menu[x]))
            print("-"*45)
            #Prints initial amount
            print("Subtotal:",amount)
            
            #Calculates discount
            if amount >= 1000: 
                discount += amount * 0.1
                per = 10
            elif amount >= 800:
                discount += amount * 0.05
                per = 5
            else:
                discount = 0
                per = 0
            print(f"Discount({per}%): -{discount}")
            
            #Calculates final amount
            final_amount = amount - discount
            print("Total Amount:",final_amount)
            
            print("-"*45)
            print("\n\n")
            break
